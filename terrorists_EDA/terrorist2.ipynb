{
 "cells": [
  {
   "cell_type": "markdown",
   "metadata": {},
   "source": [
    "# Exploracion de datos de ataques terroristas\n",
    "\n",
    "Hoy exploraremos el 'Global Terrorism Database'(GDT) que contiene informacion de mas de 180.000 ataques terroristas.\n",
    "\n",
    "El GDT es una base de datos open-source que incluye información sobre ataques terroristas en todo el mundo desde 1970 hasta 2017. El GTD incluye datos sistemáticos sobre incidentes terroristas internacionales que ocurrieron durante este período de tiempo. La base de datos es mantenida por investigadores del Consorcio Nacional para el Estudio del Terrorismo y las Respuestas al Terrorismo (START), con sede en la Universidad de Maryland, EEUU.\n",
    "\n",
    "Definición de terrorismo:\n",
    "\n",
    "\"Forma violenta de lucha política, mediante la cual se persigue la destrucción del orden establecido o la creación de un clima de terror e inseguridad susceptible de intimidar a los adversarios o a la población en general.\"\n",
    "\n",
    "#### Definicion de columnas del dataset:\n",
    "\n",
    "iyear : Este campo contiene el año en que ocurrió el incidente. En el caso de incidentes que ocurran durante un período prolongado, el campo registrará el año en que se inició el incidente.\n",
    "\n",
    "country_txt : Este campo identifica el país o la ubicación donde ocurrió el incidente.\n",
    "\n",
    "region_txt : Este campo identifica la región en la que ocurrió el incidente.\n",
    "\n",
    "city : Este campo identifica la ciudad en la que ocurrió el incidente. \n",
    "\n",
    "success(éxito) : El éxito de un ataque terrorista se define de acuerdo con los efectos tangibles del ataque. El éxito no se juzga en términos de los objetivos más grandes de los perpetradores. Por ejemplo, una bomba que explotó en un edificio se consideraría un éxito incluso si no lograra derribar el edificio o inducir la represión del gobierno.\n",
    "La definición de un ataque exitoso depende del tipo de ataque. Esencialmente, la pregunta clave es si el tipo de ataque tuvo lugar o no. Si un caso tiene múltiples tipos de ataque, tiene éxito si alguno de los tipos de ataque tiene éxito, con la excepción de los asesinatos, que solo tienen éxito si se mata al objetivo deseado.\n",
    "\n",
    "attacktype1_txt : Este campo captura el método general de ataque y a menudo refleja la amplia clase de tácticas utilizadas.\n",
    "\n",
    "targtype1_txt : El campo de tipo objetivo / víctima captura el tipo general de objetivo / víctima.\n",
    "\n",
    "gname : Este campo contiene el nombre del grupo que llevó a cabo el ataque.\n",
    "\n",
    "weaptype1_txt : Este campo registra el tipo general de arma utilizada en el incidente.\n",
    "\n",
    "weapsubtype1_txt : Este campo registra un valor más específico para la mayoría de los tipos de armas identificados inmediatamente arriba.\n",
    "\n",
    "nkill : Este campo almacena el número total de muertes confirmadas por el incidente. El número incluye a todas las víctimas y atacantes que murieron como resultado directo del incidente.\n",
    "\n",
    "ishostkid : Este campo registra si las víctimas fueron tomadas como rehenes.\n",
    "\n",
    "\n",
    "\n"
   ]
  },
  {
   "cell_type": "markdown",
   "metadata": {},
   "source": [
    "### Importando librerias y dataset"
   ]
  },
  {
   "cell_type": "code",
   "execution_count": 74,
   "metadata": {},
   "outputs": [],
   "source": [
    "import pandas as pd\n",
    "import numpy as np\n",
    "import matplotlib.pyplot as plt"
   ]
  },
  {
   "cell_type": "code",
   "execution_count": 75,
   "metadata": {},
   "outputs": [],
   "source": [
    "terr = pd.read_csv(r'C:\\Users\\Usuario\\Desktop\\Python\\terrorists_EDA\\globalterrorism.csv', encoding = 'latin1');"
   ]
  },
  {
   "cell_type": "markdown",
   "metadata": {},
   "source": [
    "## Recategorizacion de algunas de las columnas.\n",
    "\n",
    "Ejemplo: Columna de ataques de terrorista la paso de ser un objeto a una categoria."
   ]
  },
  {
   "cell_type": "code",
   "execution_count": 76,
   "metadata": {},
   "outputs": [],
   "source": [
    "columnas_ret = ['iyear','country_txt','region_txt','city','success','attacktype1_txt','targtype1_txt','gname','weaptype1_txt',\n",
    "               'weapsubtype1_txt','nkill','ishostkid','nhostkid','ransom','ransomamt','ransompaid']"
   ]
  },
  {
   "cell_type": "code",
   "execution_count": 77,
   "metadata": {},
   "outputs": [],
   "source": [
    "terror = terr[terr.columns[terr.columns.isin(columnas_ret)]]"
   ]
  },
  {
   "cell_type": "code",
   "execution_count": 78,
   "metadata": {},
   "outputs": [],
   "source": [
    "terror.shape;"
   ]
  },
  {
   "cell_type": "code",
   "execution_count": 79,
   "metadata": {},
   "outputs": [],
   "source": [
    "terror.head();"
   ]
  },
  {
   "cell_type": "code",
   "execution_count": 80,
   "metadata": {},
   "outputs": [],
   "source": [
    "terror.dtypes;"
   ]
  },
  {
   "cell_type": "code",
   "execution_count": 81,
   "metadata": {},
   "outputs": [],
   "source": [
    "terror.loc[:,'success'] = terror.loc[:,'success'].astype('category');"
   ]
  },
  {
   "cell_type": "code",
   "execution_count": 82,
   "metadata": {},
   "outputs": [],
   "source": [
    "terror.loc[:,'success'];"
   ]
  },
  {
   "cell_type": "code",
   "execution_count": 83,
   "metadata": {},
   "outputs": [],
   "source": [
    "terror.loc[:,'attacktype1_txt'] = terror.loc[:,'attacktype1_txt'].astype('category') \n",
    "terror.loc[:,'targtype1_txt'] = terror.loc[:,'targtype1_txt'].astype('category') \n",
    "terror.loc[:,'weaptype1_txt'] = terror.loc[:,'weaptype1_txt'].astype('category')\n",
    "terror.loc[:,'weapsubtype1_txt'] = terror.loc[:,'weapsubtype1_txt'].astype('category') \n",
    "terror.loc[:,'ishostkid'] = terror.loc[:,'ishostkid'].astype('category')\n",
    "terror.loc[:,'ransom'] = terror.loc[:,'ransom'].astype('category')"
   ]
  },
  {
   "cell_type": "code",
   "execution_count": 84,
   "metadata": {},
   "outputs": [],
   "source": [
    "terror['weapsubtype1_txt'].unique();"
   ]
  },
  {
   "cell_type": "markdown",
   "metadata": {},
   "source": [
    "### Tratamiento missing data"
   ]
  },
  {
   "cell_type": "code",
   "execution_count": 85,
   "metadata": {},
   "outputs": [],
   "source": [
    "terror.apply(lambda x: sum(pd.isna(x)));"
   ]
  },
  {
   "cell_type": "code",
   "execution_count": 86,
   "metadata": {},
   "outputs": [],
   "source": [
    "terror = pd.DataFrame(terror)"
   ]
  },
  {
   "cell_type": "code",
   "execution_count": 87,
   "metadata": {},
   "outputs": [],
   "source": [
    "terror['weapsubtype1_txt'] = terror['weapsubtype1_txt'].cat.add_categories('Unknown')"
   ]
  },
  {
   "cell_type": "code",
   "execution_count": 88,
   "metadata": {},
   "outputs": [],
   "source": [
    "terror.loc[terror['weapsubtype1_txt'].isna(),'weapsubtype1_txt'] = 'Unknown'"
   ]
  },
  {
   "cell_type": "code",
   "execution_count": 89,
   "metadata": {},
   "outputs": [],
   "source": [
    "terror[terror['nkill'].isna()]; #por ahora, ignorar.\n",
    "#Prefiero saltar los NA en mis calculos que borrarlos dado a que son muchos."
   ]
  },
  {
   "cell_type": "code",
   "execution_count": 90,
   "metadata": {},
   "outputs": [],
   "source": [
    "terror['ishostkid'].value_counts();"
   ]
  },
  {
   "cell_type": "code",
   "execution_count": 91,
   "metadata": {},
   "outputs": [],
   "source": [
    "terror['ishostkid'].isna().sum();"
   ]
  },
  {
   "cell_type": "code",
   "execution_count": 92,
   "metadata": {},
   "outputs": [],
   "source": [
    "#Borrar pocas observaciones en ishostkid (columna que me dice si hubo o no un rehén)\n",
    "terror = terror[terror['ishostkid'].notna()]"
   ]
  },
  {
   "cell_type": "markdown",
   "metadata": {},
   "source": [
    "#### Hay columnas que resultan tener mucha informacion nula, que no nos aporta en nuestro estudio. Como observan abajo en la tabla y el grafico, las columnas que nos otorgan informacion sobre si se pidio dinero de rescate (ransom) y cuanto se termino pagando(ransompaid), contiene en su mayoria datos nulos(en algunos casos casi el 100% de los datos!). Estas columnas como las otras que observamos abajo con grandes numeros de informacion nula seria eliminadas ya que no es posible realizar algun tipo de analisis. "
   ]
  },
  {
   "cell_type": "code",
   "execution_count": 93,
   "metadata": {},
   "outputs": [
    {
     "data": {
      "text/plain": [
       "iyear               0.000000\n",
       "country_txt         0.000000\n",
       "region_txt          0.000000\n",
       "city                0.002391\n",
       "success             0.000000\n",
       "attacktype1_txt     0.000000\n",
       "targtype1_txt       0.000000\n",
       "gname               0.000000\n",
       "weaptype1_txt       0.000000\n",
       "weapsubtype1_txt    0.000000\n",
       "nkill               0.056729\n",
       "ishostkid           0.000000\n",
       "nhostkid            0.925228\n",
       "ransom              0.573689\n",
       "ransomamt           0.992563\n",
       "ransompaid          0.995736\n",
       "dtype: float64"
      ]
     },
     "execution_count": 93,
     "metadata": {},
     "output_type": "execute_result"
    }
   ],
   "source": [
    "##Eliminar variables cuyas observaciones resultan tener mas NA que cualquier otra observacion\n",
    "(terror.apply(lambda x: sum(pd.isna(x))))/len(terror.index)"
   ]
  },
  {
   "cell_type": "code",
   "execution_count": 94,
   "metadata": {},
   "outputs": [],
   "source": [
    "na_mayor = pd.DataFrame((terror.apply(lambda x: sum(pd.isna(x))))/len(terror.index))"
   ]
  },
  {
   "cell_type": "code",
   "execution_count": 95,
   "metadata": {},
   "outputs": [],
   "source": [
    "na_mayor.columns = ['% de NA']"
   ]
  },
  {
   "cell_type": "code",
   "execution_count": 96,
   "metadata": {},
   "outputs": [
    {
     "name": "stdout",
     "output_type": "stream",
     "text": [
      "Eliminar nhostkid,ransom,ransomamt,ransompaid\n"
     ]
    },
    {
     "data": {
      "image/png": "[encoded data removed]",
      "text/plain": [
       "<Figure size 432x288 with 1 Axes>"
      ]
     },
     "metadata": {
      "needs_background": "light"
     },
     "output_type": "display_data"
    }
   ],
   "source": [
    "na_mayor.plot(kind = 'bar', title = '% de data faltante')\n",
    "plt.axhline(y = 0.5,color = 'red')\n",
    "print('Eliminar nhostkid,ransom,ransomamt,ransompaid')"
   ]
  },
  {
   "cell_type": "code",
   "execution_count": 97,
   "metadata": {},
   "outputs": [],
   "source": [
    "terror = terror.drop(['nhostkid','ransom','ransomamt','ransompaid'], axis = 1)"
   ]
  },
  {
   "cell_type": "markdown",
   "metadata": {},
   "source": [
    "## Data Wrangling. Un poco de ultimos ajustes al dataset original para poder comenzar con el analisis"
   ]
  },
  {
   "cell_type": "code",
   "execution_count": 98,
   "metadata": {},
   "outputs": [],
   "source": [
    "terror.head();"
   ]
  },
  {
   "cell_type": "code",
   "execution_count": 99,
   "metadata": {},
   "outputs": [],
   "source": [
    "terror_country = pd.DataFrame(terror.groupby('country_txt').size())"
   ]
  },
  {
   "cell_type": "code",
   "execution_count": 100,
   "metadata": {},
   "outputs": [],
   "source": [
    "terror_country.head();"
   ]
  },
  {
   "cell_type": "code",
   "execution_count": 101,
   "metadata": {},
   "outputs": [],
   "source": [
    "terror_country.shape;"
   ]
  },
  {
   "cell_type": "code",
   "execution_count": 102,
   "metadata": {},
   "outputs": [],
   "source": [
    "terror_country.index.name = 'pais'"
   ]
  },
  {
   "cell_type": "code",
   "execution_count": 103,
   "metadata": {},
   "outputs": [],
   "source": [
    "terror_country.columns = ['ataques']"
   ]
  },
  {
   "cell_type": "code",
   "execution_count": 104,
   "metadata": {},
   "outputs": [],
   "source": [
    "isinstance(terror_country, pd.DataFrame);"
   ]
  },
  {
   "cell_type": "code",
   "execution_count": 105,
   "metadata": {},
   "outputs": [],
   "source": [
    "(terror_country['ataques'].mean());"
   ]
  },
  {
   "cell_type": "code",
   "execution_count": 106,
   "metadata": {},
   "outputs": [],
   "source": [
    "terror_country['ataques'].median();"
   ]
  },
  {
   "cell_type": "markdown",
   "metadata": {},
   "source": [
    "## Paises con ataques mayores al promedio mundial"
   ]
  },
  {
   "cell_type": "code",
   "execution_count": 107,
   "metadata": {
    "scrolled": true
   },
   "outputs": [
    {
     "name": "stdout",
     "output_type": "stream",
     "text": [
      "             ataques\n",
      "pais                \n",
      "Iraq           24636\n",
      "Pakistan       14368\n",
      "Afghanistan    12731\n",
      "India          11960\n",
      "Colombia        8306\n"
     ]
    },
    {
     "data": {
      "image/png": "[encoded data removed]",
      "text/plain": [
       "<Figure size 432x288 with 1 Axes>"
      ]
     },
     "metadata": {
      "needs_background": "light"
     },
     "output_type": "display_data"
    }
   ],
   "source": [
    "(terror_country[terror_country['ataques'] > (terror_country['ataques'].mean())]).sort_values(by = 'ataques',ascending = False).plot(kind = 'bar')\n",
    "print((terror_country[terror_country['ataques'] > (terror_country['ataques'].mean())]).sort_values(by = 'ataques',\n",
    "                                                                                                   ascending = False).head())\n"
   ]
  },
  {
   "cell_type": "markdown",
   "metadata": {},
   "source": [
    "#### En el grafico que observamos arriba, vemos los paises cuyos ataques acumulados desde 1970 superan el promedio mundial de 885 ataques."
   ]
  },
  {
   "cell_type": "markdown",
   "metadata": {},
   "source": [
    "## Ataques por region"
   ]
  },
  {
   "cell_type": "code",
   "execution_count": 108,
   "metadata": {},
   "outputs": [
    {
     "name": "stdout",
     "output_type": "stream",
     "text": [
      "region_txt\n",
      "Middle East & North Africa     50474\n",
      "South Asia                     44973\n",
      "South America                  18978\n",
      "Sub-Saharan Africa             17550\n",
      "Western Europe                 16639\n",
      "Southeast Asia                 12484\n",
      "Central America & Caribbean    10344\n",
      "Eastern Europe                  5144\n",
      "North America                   3280\n",
      "East Asia                        802\n",
      "Central Asia                     563\n",
      "Australasia & Oceania            282\n",
      "dtype: int64\n"
     ]
    },
    {
     "data": {
      "image/png": "[encoded data removed]",
      "text/plain": [
       "<Figure size 432x288 with 1 Axes>"
      ]
     },
     "metadata": {},
     "output_type": "display_data"
    }
   ],
   "source": [
    "terror_region = terror.groupby('region_txt').size().sort_values(ascending = False)\n",
    "print(terror_region)\n",
    "labels = terror_region.index\n",
    "plt.pie(terror_region,labels = labels,autopct='%1.1f%%')\n",
    "plt.tight_layout()\n",
    "plt.show()"
   ]
  },
  {
   "cell_type": "markdown",
   "metadata": {},
   "source": [
    "#### En el grafico superior, podemos observar como mas de la mitad de los ataques terroristas tienen origen en el continente Asiatico. Subsiguiente seria nuestro continente Americano, en el cual llega aproximadamente a un 17% de los ataques mundiales. A America le sigue el continente Europeo con aproximadamente un 12%, Africa con aproximadamente un 10%, y por ultimo el continente oceanico con un porcentaje casi nulo. "
   ]
  },
  {
   "cell_type": "markdown",
   "metadata": {},
   "source": [
    "## Ataques en Sudamérica, discriminado por pais"
   ]
  },
  {
   "cell_type": "code",
   "execution_count": 109,
   "metadata": {},
   "outputs": [],
   "source": [
    "terror_sud = terror[terror['region_txt'] == 'South America']\n",
    "terror_sud_group = pd.DataFrame(terror_sud.groupby('country_txt').size().sort_values(ascending = False))\n",
    "terror_sud_group['prop %'] = round(terror_sud_group/terror_sud_group[0].sum() * 100,2)\n"
   ]
  },
  {
   "cell_type": "code",
   "execution_count": 110,
   "metadata": {},
   "outputs": [],
   "source": [
    "terror_sud_group.columns = ['Ataques','proporcion']"
   ]
  },
  {
   "cell_type": "code",
   "execution_count": 111,
   "metadata": {},
   "outputs": [],
   "source": [
    "import squarify"
   ]
  },
  {
   "cell_type": "code",
   "execution_count": 112,
   "metadata": {},
   "outputs": [
    {
     "data": {
      "image/png": "[encoded data removed]",
      "text/plain": [
       "<Figure size 432x288 with 1 Axes>"
      ]
     },
     "metadata": {
      "needs_background": "light"
     },
     "output_type": "display_data"
    },
    {
     "name": "stdout",
     "output_type": "stream",
     "text": [
      "                  Ataques  proporcion\n",
      "country_txt                          \n",
      "Colombia             8306       43.77\n",
      "Peru                 6096       32.12\n",
      "Chile                2365       12.46\n",
      "Argentina             815        4.29\n",
      "Bolivia               314        1.65\n",
      "Venezuela             293        1.54\n",
      "Brazil                273        1.44\n",
      "Ecuador               220        1.16\n",
      "Paraguay              114        0.60\n",
      "Uruguay                82        0.43\n",
      "Suriname               66        0.35\n",
      "Guyana                 26        0.14\n",
      "French Guiana           7        0.04\n",
      "Falkland Islands        1        0.01\n"
     ]
    }
   ],
   "source": [
    "#squarify.plot(sizes=df['nb_people'], label=df['group'], alpha=.8 ) \n",
    "labels_sud = terror_sud_group.index\n",
    "squarify.plot(sizes=terror_sud_group.iloc[:,0], label= labels_sud, bar_kwargs=dict(linewidth=1, edgecolor=\"#222222\")) \n",
    "plt.axis('off')\n",
    "plt.show() \n",
    "print(terror_sud_group)"
   ]
  },
  {
   "cell_type": "markdown",
   "metadata": {},
   "source": [
    "## Evolucion de ataques terroristas anuales"
   ]
  },
  {
   "cell_type": "code",
   "execution_count": 113,
   "metadata": {},
   "outputs": [],
   "source": [
    "terror_evo = terror.groupby('iyear').size()"
   ]
  },
  {
   "cell_type": "code",
   "execution_count": 114,
   "metadata": {
    "scrolled": true
   },
   "outputs": [
    {
     "data": {
      "image/png": "[encoded data removed]",
      "text/plain": [
       "<Figure size 432x288 with 1 Axes>"
      ]
     },
     "metadata": {
      "needs_background": "light"
     },
     "output_type": "display_data"
    }
   ],
   "source": [
    "plt.plot(terror_evo)\n",
    "plt.xticks(terror_evo.index)\n",
    "plt.xticks(rotation=90)\n",
    "plt.tick_params(axis='x', which='major', labelsize=7.5)\n",
    "plt.show()"
   ]
  },
  {
   "cell_type": "markdown",
   "metadata": {},
   "source": [
    "#### Observemos el pico de ataques en los años 2013-2015, estudiaremos este pico en los siguientes graficos."
   ]
  },
  {
   "cell_type": "code",
   "execution_count": 115,
   "metadata": {},
   "outputs": [],
   "source": [
    "terror_group_spike = pd.DataFrame(terror.groupby(['iyear','region_txt']).size()).reset_index()"
   ]
  },
  {
   "cell_type": "code",
   "execution_count": 116,
   "metadata": {},
   "outputs": [],
   "source": [
    "terror_group_spike.columns = ['Año','Region','Ataques']"
   ]
  },
  {
   "cell_type": "code",
   "execution_count": 117,
   "metadata": {},
   "outputs": [
    {
     "data": {
      "text/html": [
       "<div>\n",
       "<style scoped>\n",
       "    .dataframe tbody tr th:only-of-type {\n",
       "        vertical-align: middle;\n",
       "    }\n",
       "\n",
       "    .dataframe tbody tr th {\n",
       "        vertical-align: top;\n",
       "    }\n",
       "\n",
       "    .dataframe thead th {\n",
       "        text-align: right;\n",
       "    }\n",
       "</style>\n",
       "<table border=\"1\" class=\"dataframe\">\n",
       "  <thead>\n",
       "    <tr style=\"text-align: right;\">\n",
       "      <th></th>\n",
       "      <th>Año</th>\n",
       "      <th>Region</th>\n",
       "      <th>Ataques</th>\n",
       "    </tr>\n",
       "  </thead>\n",
       "  <tbody>\n",
       "    <tr>\n",
       "      <th>0</th>\n",
       "      <td>1970</td>\n",
       "      <td>Australasia &amp; Oceania</td>\n",
       "      <td>1</td>\n",
       "    </tr>\n",
       "    <tr>\n",
       "      <th>1</th>\n",
       "      <td>1970</td>\n",
       "      <td>Central America &amp; Caribbean</td>\n",
       "      <td>7</td>\n",
       "    </tr>\n",
       "    <tr>\n",
       "      <th>2</th>\n",
       "      <td>1970</td>\n",
       "      <td>East Asia</td>\n",
       "      <td>2</td>\n",
       "    </tr>\n",
       "    <tr>\n",
       "      <th>3</th>\n",
       "      <td>1970</td>\n",
       "      <td>Eastern Europe</td>\n",
       "      <td>12</td>\n",
       "    </tr>\n",
       "    <tr>\n",
       "      <th>4</th>\n",
       "      <td>1970</td>\n",
       "      <td>Middle East &amp; North Africa</td>\n",
       "      <td>28</td>\n",
       "    </tr>\n",
       "  </tbody>\n",
       "</table>\n",
       "</div>"
      ],
      "text/plain": [
       "    Año                       Region  Ataques\n",
       "0  1970        Australasia & Oceania        1\n",
       "1  1970  Central America & Caribbean        7\n",
       "2  1970                    East Asia        2\n",
       "3  1970               Eastern Europe       12\n",
       "4  1970   Middle East & North Africa       28"
      ]
     },
     "execution_count": 117,
     "metadata": {},
     "output_type": "execute_result"
    }
   ],
   "source": [
    "terror_group_spike.head()"
   ]
  },
  {
   "cell_type": "code",
   "execution_count": 118,
   "metadata": {},
   "outputs": [],
   "source": [
    "terror_spike = terror_group_spike[terror_group_spike['Año'] > 2010].set_index('Año')"
   ]
  },
  {
   "cell_type": "code",
   "execution_count": 119,
   "metadata": {},
   "outputs": [],
   "source": [
    "terror_spike.Region.unique();"
   ]
  },
  {
   "cell_type": "code",
   "execution_count": 120,
   "metadata": {},
   "outputs": [],
   "source": [
    "regiones = terror_spike.Region.unique()"
   ]
  },
  {
   "cell_type": "code",
   "execution_count": 121,
   "metadata": {
    "scrolled": true
   },
   "outputs": [
    {
     "data": {
      "image/png": "[encoded data removed]",
      "text/plain": [
       "<Figure size 432x288 with 12 Axes>"
      ]
     },
     "metadata": {
      "needs_background": "light"
     },
     "output_type": "display_data"
    }
   ],
   "source": [
    "regiones_spike_plot = plt.figure()\n",
    "\n",
    "for i,num in zip(regiones, range(1,13)):\n",
    "    terror_spike_reg = terror_spike[terror_spike['Region']==i]\n",
    "    ax = regiones_spike_plot.add_subplot(4,3,num)\n",
    "    terror_spike_reg.plot(title=i, ax=ax, legend=False)\n",
    "    plt.axvline(x = 2013,color = 'red')\n",
    "    plt.axvline(x = 2015,color = 'red')\n",
    "    plt.xticks(terror_spike.index, rotation = 90)\n",
    "    plt.tick_params(axis='x',width = 2, length = 1,labelsize=7.5)\n",
    "\n",
    "    \n",
    "plt.subplots_adjust(left=2, bottom=2, right=3, top=3, wspace=1, hspace=2)\n",
    "plt.show()\n",
    "\n",
    "\n",
    "\n",
    "\n"
   ]
  },
  {
   "cell_type": "markdown",
   "metadata": {},
   "source": [
    "#### Como observamos en el grafico de la evolucion de ataques terroristas que hubo un pico de ataques entre 2013-2015, decidi graficar cada region para ver cuales fueron las que otorgaron en mayor parte a este subida importante de terrorismo global.\n",
    "\n",
    "#### Vemos entonces entre las lineas rojas, que corresponen a los años 2013 y 2015, como las siguientes regiones sufrieron un numero elevado de ataques:\n",
    "\n",
    "*Este Asiatico\n",
    "*Este Europeo\n",
    "*Medio oriente y el norte de Africa\n",
    "*Sud America\n",
    "*Sur Asiatico\n",
    "*Sudeste Asiatico\n",
    "*Africa Subsahariana\n",
    "*Oceania\n",
    "\n",
    "#### Importante aclaracion!! Si bien cada una de estas regiones vio un incremento en ataques, cada una tiene una escala diferente. Si bien los ataques en oceania duplicaron, nominalmente es un numero mucho menor a por ejemplo el salto en el Este Europeo o Africa Subsahariana. "
   ]
  },
  {
   "cell_type": "code",
   "execution_count": 122,
   "metadata": {},
   "outputs": [
    {
     "data": {
      "text/plain": [
       "0    2014\n",
       "dtype: int64"
      ]
     },
     "execution_count": 122,
     "metadata": {},
     "output_type": "execute_result"
    }
   ],
   "source": [
    "terror.iyear.mode()## 2014, año con mayor cantidad de ataques terroristas"
   ]
  },
  {
   "cell_type": "markdown",
   "metadata": {},
   "source": [
    "## Cantidad de fallecidos"
   ]
  },
  {
   "cell_type": "code",
   "execution_count": 123,
   "metadata": {},
   "outputs": [],
   "source": [
    "#top 3 attacks with most deaths"
   ]
  },
  {
   "cell_type": "code",
   "execution_count": 124,
   "metadata": {},
   "outputs": [],
   "source": [
    "fatalities = pd.DataFrame(terror.groupby('nkill').size())"
   ]
  },
  {
   "cell_type": "code",
   "execution_count": 125,
   "metadata": {},
   "outputs": [
    {
     "name": "stdout",
     "output_type": "stream",
     "text": [
      "           0\n",
      "nkill       \n",
      "0.0    88011\n",
      "1.0    36554\n",
      "2.0    14147\n",
      "3.0     7737\n",
      "4.0     4961\n"
     ]
    },
    {
     "data": {
      "text/plain": [
       "(205, 1)"
      ]
     },
     "execution_count": 125,
     "metadata": {},
     "output_type": "execute_result"
    }
   ],
   "source": [
    "print(fatalities.head())\n",
    "fatalities.shape"
   ]
  },
  {
   "cell_type": "code",
   "execution_count": 126,
   "metadata": {},
   "outputs": [],
   "source": [
    "fatalities.columns = ['Frecuencia']\n",
    "fatalities.index.name = 'Cantidad de fallecidos'"
   ]
  },
  {
   "cell_type": "markdown",
   "metadata": {},
   "source": [
    "### En el siguiente grafico con escala logaritmica (dado a las grandes diferencias entre los valores), el eje X es la cantidad de muertos en ataques terroristas. Podemos observar como en la mayoria de los casos, la cantidad de fallecidos es 0. "
   ]
  },
  {
   "cell_type": "code",
   "execution_count": 127,
   "metadata": {
    "scrolled": false
   },
   "outputs": [
    {
     "data": {
      "image/png": "[encoded data removed]",
      "text/plain": [
       "<Figure size 432x288 with 1 Axes>"
      ]
     },
     "metadata": {
      "needs_background": "light"
     },
     "output_type": "display_data"
    }
   ],
   "source": [
    "terror.nkill.hist( bins = 100, log = True)\n",
    "plt.show()"
   ]
  },
  {
   "cell_type": "code",
   "execution_count": 128,
   "metadata": {
    "scrolled": false
   },
   "outputs": [
    {
     "name": "stdout",
     "output_type": "stream",
     "text": [
      "Numero de fallecidos mas frecuente: 0\n"
     ]
    }
   ],
   "source": [
    "print(\"Numero de fallecidos mas frecuente: 0\")"
   ]
  },
  {
   "cell_type": "markdown",
   "metadata": {},
   "source": [
    "### Entonces, cuales son las estadisticas generales sobre la cantidad de fallecidos en ataques terroristas?\n",
    "\n",
    "#### Como observamos en la tabla abajo y sin tener en cuenta los valores inexistentes, vemos que en promedio con redondeo, mueren 2 personas por cada ataque terrorista, con un envio estandar de 12 muertes por ataque. La cantidad de ataques sin fallecidos es tan grande que la mediana resulta ser 0. Hubo un ataque particularmente tragico que se llevo la vida de 1570 muertos. Mas detalles abajo."
   ]
  },
  {
   "cell_type": "code",
   "execution_count": 129,
   "metadata": {},
   "outputs": [
    {
     "data": {
      "text/plain": [
       "count    171216.000000\n",
       "mean          2.405365\n",
       "std          11.550985\n",
       "min           0.000000\n",
       "25%           0.000000\n",
       "50%           0.000000\n",
       "75%           2.000000\n",
       "max        1570.000000\n",
       "Name: nkill, dtype: float64"
      ]
     },
     "execution_count": 129,
     "metadata": {},
     "output_type": "execute_result"
    }
   ],
   "source": [
    "terror.nkill.describe()"
   ]
  },
  {
   "cell_type": "code",
   "execution_count": 130,
   "metadata": {},
   "outputs": [],
   "source": [
    "evo_fallecidos = terror.groupby('iyear')['nkill'].sum()"
   ]
  },
  {
   "cell_type": "markdown",
   "metadata": {},
   "source": [
    "## Abajo observamos las evolucion de la cantidad de muertes a causa del terrorismo desde 1970. El grafico le suena familiar?"
   ]
  },
  {
   "cell_type": "code",
   "execution_count": 131,
   "metadata": {},
   "outputs": [
    {
     "data": {
      "image/png": "[encoded data removed]",
      "text/plain": [
       "<Figure size 432x288 with 1 Axes>"
      ]
     },
     "metadata": {
      "needs_background": "light"
     },
     "output_type": "display_data"
    }
   ],
   "source": [
    "evo_fallecidos.plot()\n",
    "plt.xticks(evo_fallecidos.index, rotation = 90)\n",
    "plt.tick_params(axis='x',width = 2, length = 1,labelsize=7.5)\n",
    "\n",
    "plt.show()"
   ]
  },
  {
   "cell_type": "code",
   "execution_count": 132,
   "metadata": {},
   "outputs": [],
   "source": [
    "may_tragedias = pd.Series(terror.nkill.sort_values(ascending = False).head())"
   ]
  },
  {
   "cell_type": "markdown",
   "metadata": {},
   "source": [
    "### En la tabla abajo, puede observar informacion sobre los peores ataques terroristas desde 1970. 2 Corresponden al grupo ISIS, 2 a Al-Qaida y uno a los Hutu de Rwanda. "
   ]
  },
  {
   "cell_type": "code",
   "execution_count": 133,
   "metadata": {
    "scrolled": true
   },
   "outputs": [
    {
     "data": {
      "text/html": [
       "<div>\n",
       "<style scoped>\n",
       "    .dataframe tbody tr th:only-of-type {\n",
       "        vertical-align: middle;\n",
       "    }\n",
       "\n",
       "    .dataframe tbody tr th {\n",
       "        vertical-align: top;\n",
       "    }\n",
       "\n",
       "    .dataframe thead th {\n",
       "        text-align: right;\n",
       "    }\n",
       "</style>\n",
       "<table border=\"1\" class=\"dataframe\">\n",
       "  <thead>\n",
       "    <tr style=\"text-align: right;\">\n",
       "      <th></th>\n",
       "      <th>iyear</th>\n",
       "      <th>country_txt</th>\n",
       "      <th>region_txt</th>\n",
       "      <th>city</th>\n",
       "      <th>success</th>\n",
       "      <th>attacktype1_txt</th>\n",
       "      <th>targtype1_txt</th>\n",
       "      <th>gname</th>\n",
       "      <th>weaptype1_txt</th>\n",
       "      <th>weapsubtype1_txt</th>\n",
       "      <th>nkill</th>\n",
       "      <th>ishostkid</th>\n",
       "    </tr>\n",
       "  </thead>\n",
       "  <tbody>\n",
       "    <tr>\n",
       "      <th>133518</th>\n",
       "      <td>2014</td>\n",
       "      <td>Iraq</td>\n",
       "      <td>Middle East &amp; North Africa</td>\n",
       "      <td>Tikrit</td>\n",
       "      <td>1</td>\n",
       "      <td>Hostage Taking (Kidnapping)</td>\n",
       "      <td>Military</td>\n",
       "      <td>Islamic State of Iraq and the Levant (ISIL)</td>\n",
       "      <td>Firearms</td>\n",
       "      <td>Unknown Gun Type</td>\n",
       "      <td>1570.0</td>\n",
       "      <td>1.0</td>\n",
       "    </tr>\n",
       "    <tr>\n",
       "      <th>73126</th>\n",
       "      <td>2001</td>\n",
       "      <td>United States</td>\n",
       "      <td>North America</td>\n",
       "      <td>New York City</td>\n",
       "      <td>1</td>\n",
       "      <td>Hijacking</td>\n",
       "      <td>Private Citizens &amp; Property</td>\n",
       "      <td>Al-Qaida</td>\n",
       "      <td>Vehicle (not to include vehicle-borne explosiv...</td>\n",
       "      <td>Unknown</td>\n",
       "      <td>1384.0</td>\n",
       "      <td>1.0</td>\n",
       "    </tr>\n",
       "    <tr>\n",
       "      <th>73127</th>\n",
       "      <td>2001</td>\n",
       "      <td>United States</td>\n",
       "      <td>North America</td>\n",
       "      <td>New York City</td>\n",
       "      <td>1</td>\n",
       "      <td>Hijacking</td>\n",
       "      <td>Private Citizens &amp; Property</td>\n",
       "      <td>Al-Qaida</td>\n",
       "      <td>Vehicle (not to include vehicle-borne explosiv...</td>\n",
       "      <td>Unknown</td>\n",
       "      <td>1383.0</td>\n",
       "      <td>1.0</td>\n",
       "    </tr>\n",
       "    <tr>\n",
       "      <th>55934</th>\n",
       "      <td>1994</td>\n",
       "      <td>Rwanda</td>\n",
       "      <td>Sub-Saharan Africa</td>\n",
       "      <td>Gikoro</td>\n",
       "      <td>1</td>\n",
       "      <td>Armed Assault</td>\n",
       "      <td>Private Citizens &amp; Property</td>\n",
       "      <td>Hutu extremists</td>\n",
       "      <td>Firearms</td>\n",
       "      <td>Automatic or Semi-Automatic Rifle</td>\n",
       "      <td>1180.0</td>\n",
       "      <td>0.0</td>\n",
       "    </tr>\n",
       "    <tr>\n",
       "      <th>136283</th>\n",
       "      <td>2014</td>\n",
       "      <td>Iraq</td>\n",
       "      <td>Middle East &amp; North Africa</td>\n",
       "      <td>Sinjar</td>\n",
       "      <td>1</td>\n",
       "      <td>Hostage Taking (Kidnapping)</td>\n",
       "      <td>Private Citizens &amp; Property</td>\n",
       "      <td>Islamic State of Iraq and the Levant (ISIL)</td>\n",
       "      <td>Unknown</td>\n",
       "      <td>Unknown</td>\n",
       "      <td>953.0</td>\n",
       "      <td>1.0</td>\n",
       "    </tr>\n",
       "  </tbody>\n",
       "</table>\n",
       "</div>"
      ],
      "text/plain": [
       "        iyear    country_txt                  region_txt           city  \\\n",
       "133518   2014           Iraq  Middle East & North Africa         Tikrit   \n",
       "73126    2001  United States               North America  New York City   \n",
       "73127    2001  United States               North America  New York City   \n",
       "55934    1994         Rwanda          Sub-Saharan Africa         Gikoro   \n",
       "136283   2014           Iraq  Middle East & North Africa         Sinjar   \n",
       "\n",
       "       success              attacktype1_txt                targtype1_txt  \\\n",
       "133518       1  Hostage Taking (Kidnapping)                     Military   \n",
       "73126        1                    Hijacking  Private Citizens & Property   \n",
       "73127        1                    Hijacking  Private Citizens & Property   \n",
       "55934        1                Armed Assault  Private Citizens & Property   \n",
       "136283       1  Hostage Taking (Kidnapping)  Private Citizens & Property   \n",
       "\n",
       "                                              gname  \\\n",
       "133518  Islamic State of Iraq and the Levant (ISIL)   \n",
       "73126                                      Al-Qaida   \n",
       "73127                                      Al-Qaida   \n",
       "55934                               Hutu extremists   \n",
       "136283  Islamic State of Iraq and the Levant (ISIL)   \n",
       "\n",
       "                                            weaptype1_txt  \\\n",
       "133518                                           Firearms   \n",
       "73126   Vehicle (not to include vehicle-borne explosiv...   \n",
       "73127   Vehicle (not to include vehicle-borne explosiv...   \n",
       "55934                                            Firearms   \n",
       "136283                                            Unknown   \n",
       "\n",
       "                         weapsubtype1_txt   nkill ishostkid  \n",
       "133518                   Unknown Gun Type  1570.0       1.0  \n",
       "73126                             Unknown  1384.0       1.0  \n",
       "73127                             Unknown  1383.0       1.0  \n",
       "55934   Automatic or Semi-Automatic Rifle  1180.0       0.0  \n",
       "136283                            Unknown   953.0       1.0  "
      ]
     },
     "execution_count": 133,
     "metadata": {},
     "output_type": "execute_result"
    }
   ],
   "source": [
    "terror[terror['nkill'].isin(may_tragedias)].sort_values(by = 'nkill',ascending = False)"
   ]
  },
  {
   "cell_type": "markdown",
   "metadata": {},
   "source": [
    "## Midiendo el 'exito' de los ataques"
   ]
  },
  {
   "cell_type": "code",
   "execution_count": 134,
   "metadata": {},
   "outputs": [],
   "source": [
    "#which attacks were more successful?"
   ]
  },
  {
   "cell_type": "code",
   "execution_count": 135,
   "metadata": {},
   "outputs": [],
   "source": [
    "terror.success.astype(int).sum()/len(terror.success);"
   ]
  },
  {
   "cell_type": "code",
   "execution_count": 136,
   "metadata": {
    "scrolled": true
   },
   "outputs": [
    {
     "data": {
      "image/png": "[encoded data removed]",
      "text/plain": [
       "<Figure size 432x288 with 1 Axes>"
      ]
     },
     "metadata": {},
     "output_type": "display_data"
    },
    {
     "name": "stdout",
     "output_type": "stream",
     "text": [
      "Ataques en total:181513\n",
      "1    161474\n",
      "0     20039\n",
      "Name: success, dtype: int64\n"
     ]
    }
   ],
   "source": [
    "plt.pie(pd.DataFrame(terror.success.value_counts()), labels = ['Ataques exitosos','No exitosos'],autopct='%1.1f%%')\n",
    "plt.show()\n",
    "\n",
    "print('Ataques en total:{}'.format(len(terror.success)))\n",
    "print(terror.success.value_counts())"
   ]
  },
  {
   "cell_type": "markdown",
   "metadata": {},
   "source": [
    "### En el grafico arriba podemos observar que hasta 11% (20.039 ataques) de los ataques terroristas llevado a cabo no tuvieron éxito."
   ]
  },
  {
   "cell_type": "code",
   "execution_count": 137,
   "metadata": {},
   "outputs": [],
   "source": [
    "terror.success = terror.success.astype(int)"
   ]
  },
  {
   "cell_type": "code",
   "execution_count": 138,
   "metadata": {},
   "outputs": [],
   "source": [
    "prom_exito_anual = pd.DataFrame(terror.groupby('iyear')['success'].mean())"
   ]
  },
  {
   "cell_type": "code",
   "execution_count": 139,
   "metadata": {},
   "outputs": [],
   "source": [
    "suma_exito_anual = pd.DataFrame(terror.groupby('iyear')['success'].sum())"
   ]
  },
  {
   "cell_type": "code",
   "execution_count": 140,
   "metadata": {
    "scrolled": true
   },
   "outputs": [
    {
     "data": {
      "image/png": "[encoded data removed]",
      "text/plain": [
       "<Figure size 432x288 with 2 Axes>"
      ]
     },
     "metadata": {
      "needs_background": "light"
     },
     "output_type": "display_data"
    }
   ],
   "source": [
    "suc_plot = plt.figure()\n",
    "first_plot = suc_plot.add_subplot(2,1,1)\n",
    "prom_exito_anual.plot(ax = first_plot,title = 'Promedio de ataques exitosos',legend = False)\n",
    "\n",
    "\n",
    "second_plot = suc_plot.add_subplot(2,1,2)\n",
    "suma_exito_anual.plot(ax = second_plot, title = 'Suma de ataques exitosos', color = 'red',legend = False)\n",
    "\n",
    "plt.subplots_adjust(bottom=0.5, top=1, wspace=1, hspace=1)\n",
    "plt.show()\n",
    "\n"
   ]
  },
  {
   "cell_type": "markdown",
   "metadata": {},
   "source": [
    "### El objetivo del grafico superior es analizar la relacion entre la SUMA de ataques exitosos a travez de los años, con el PROMEDIO de los ataques exitosos. Podemos entonces observar que a partir de 2010, nominalmente subieron los ataques terroristas, pero el la probabilidad de que estos ataques terroristas tengan exito, bajaron casi un 10%. "
   ]
  },
  {
   "cell_type": "markdown",
   "metadata": {},
   "source": [
    "### En la tabla y grafico de abajo, observamos el TIPO DE ATAQUE de terroristas mas utilizados, explosiones con bombas siendo la mas frecuente."
   ]
  },
  {
   "cell_type": "code",
   "execution_count": 141,
   "metadata": {
    "scrolled": true
   },
   "outputs": [
    {
     "name": "stdout",
     "output_type": "stream",
     "text": [
      "Bombing/Explosion                      88140\n",
      "Armed Assault                          42637\n",
      "Assassination                          19308\n",
      "Hostage Taking (Kidnapping)            11158\n",
      "Facility/Infrastructure Attack         10330\n",
      "Unknown                                 7276\n",
      "Unarmed Assault                         1014\n",
      "Hostage Taking (Barricade Incident)      991\n",
      "Hijacking                                659\n",
      "Name: attacktype1_txt, dtype: int64\n"
     ]
    },
    {
     "data": {
      "image/png": "[encoded data removed]",
      "text/plain": [
       "<Figure size 432x288 with 1 Axes>"
      ]
     },
     "metadata": {
      "needs_background": "light"
     },
     "output_type": "display_data"
    }
   ],
   "source": [
    "print(terror.attacktype1_txt.value_counts())\n",
    "terror.attacktype1_txt.value_counts().plot(kind = 'bar')\n",
    "plt.show()\n"
   ]
  },
  {
   "cell_type": "code",
   "execution_count": 142,
   "metadata": {},
   "outputs": [],
   "source": [
    "most_suc_att = terror.groupby('attacktype1_txt')['success'].mean().sort_values()"
   ]
  },
  {
   "cell_type": "markdown",
   "metadata": {},
   "source": [
    "### En este ultimo grafico, se demuestra cual tipo de ataque terrorista tiene mas chances de lamentablemente ser un ataque exitoso. "
   ]
  },
  {
   "cell_type": "code",
   "execution_count": 143,
   "metadata": {},
   "outputs": [
    {
     "data": {
      "image/png": "[encoded data removed]",
      "text/plain": [
       "<Figure size 432x288 with 1 Axes>"
      ]
     },
     "metadata": {
      "needs_background": "light"
     },
     "output_type": "display_data"
    }
   ],
   "source": [
    "most_suc_att.plot(kind = 'barh')\n",
    "plt.show()"
   ]
  }
 ],
 "metadata": {
  "kernelspec": {
   "display_name": "Python 3",
   "language": "python",
   "name": "python3"
  },
  "language_info": {
   "codemirror_mode": {
    "name": "ipython",
    "version": 3
   },
   "file_extension": ".py",
   "mimetype": "text/x-python",
   "name": "python",
   "nbconvert_exporter": "python",
   "pygments_lexer": "ipython3",
   "version": "3.7.1"
  }
 },
 "nbformat": 4,
 "nbformat_minor": 2
}
