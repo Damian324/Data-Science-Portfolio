{
 "cells": [
  {
   "cell_type": "markdown",
   "metadata": {},
   "source": [
    "# Exploracion de datos de los emperadores del Imperio Romano\n",
    "\n",
    "### En este analisis, veremos informacion sobre los emperadores que gobernaron a Roma luego de la caida de la Republica de Julio Cesar, y hasta la decision por parte de Theodosius de partir el imperior en 2. \n",
    "### Años que compone el estudio: 26 a.C. hasta 395 d.C.\n",
    "\n",
    "### Columnas:\n",
    "\n",
    "Name : Nombre identificador de cada emperador\n",
    "\n",
    "Birth : Fecha de nacimiento\n",
    "\n",
    "Death: Fecha de muerte\n",
    "\n",
    "Birth city: Ciudad de nacimiento\n",
    "\n",
    "Birth Province: Provincia de nacimiento\n",
    "\n",
    "rise: Manera que asumió como emperador\n",
    "\n",
    "Reign start: Comienzo del reino\n",
    "\n",
    "Reign end: Fin del reino\n",
    "\n",
    "Cause: Causa por el fin del reino\n",
    "\n",
    "Killer: Responsable de la muerte del emperador\n",
    "\n",
    "Dynasty: Dinastia a la cual pertenecia el emperador\n",
    "\n",
    "Notes: Notas sobre estimaciones de fechas\n",
    "\n",
    "\n",
    "###### Nota aclaratoria: Muchas de las fechas presentes son estimaciones con alto nivel de confianza, tanto para nacimiento como para el año de muerte del emperador.\n",
    "\n",
    "###### Source: https://public.opendatasoft.com/explore/dataset/roman-emperors\n"
   ]
  },
  {
   "cell_type": "markdown",
   "metadata": {},
   "source": [
    "### Importamos las librerias necesarias, como tambien el dataset"
   ]
  },
  {
   "cell_type": "code",
   "execution_count": 1,
   "metadata": {},
   "outputs": [],
   "source": [
    "import pandas as pd\n",
    "import matplotlib.pyplot as plt\n",
    "import numpy as np"
   ]
  },
  {
   "cell_type": "code",
   "execution_count": 2,
   "metadata": {},
   "outputs": [],
   "source": [
    "emperors = pd.read_excel(r'C:\\Users\\Usuario\\Desktop\\Python\\emperors\\emperors_python\\roman-emperors.xlsx')"
   ]
  },
  {
   "cell_type": "code",
   "execution_count": 4,
   "metadata": {},
   "outputs": [],
   "source": [
    "emp = emperors.drop(['Index','Full Name','Era','Verif','Image'], axis = 1)"
   ]
  },
  {
   "cell_type": "code",
   "execution_count": 6,
   "metadata": {},
   "outputs": [],
   "source": [
    "emp = pd.DataFrame(emp)"
   ]
  },
  {
   "cell_type": "markdown",
   "metadata": {},
   "source": [
    "### Problema con fechas lejanas:\n",
    "###### El 'timespan' integrado en la libreria pandas no se extiende a representar fechas a distancias mayores a 584 años , por eso, modificare columnas con fechas y agregare otras para poder medir tiempos en años. Tomare en cuenta solo los años sin meses ni dias. Los años antes de cristo se denotaran con un signo negativo. "
   ]
  },
  {
   "cell_type": "code",
   "execution_count": 7,
   "metadata": {
    "collapsed": true
   },
   "outputs": [
    {
     "data": {
      "text/html": [
       "<div>\n",
       "<style scoped>\n",
       "    .dataframe tbody tr th:only-of-type {\n",
       "        vertical-align: middle;\n",
       "    }\n",
       "\n",
       "    .dataframe tbody tr th {\n",
       "        vertical-align: top;\n",
       "    }\n",
       "\n",
       "    .dataframe thead th {\n",
       "        text-align: right;\n",
       "    }\n",
       "</style>\n",
       "<table border=\"1\" class=\"dataframe\">\n",
       "  <thead>\n",
       "    <tr style=\"text-align: right;\">\n",
       "      <th></th>\n",
       "      <th>Name</th>\n",
       "      <th>Birth</th>\n",
       "      <th>Death</th>\n",
       "      <th>Birth City</th>\n",
       "      <th>Birth Province</th>\n",
       "      <th>rise</th>\n",
       "      <th>Reign Start</th>\n",
       "      <th>Reign End</th>\n",
       "      <th>Cause</th>\n",
       "      <th>Killer</th>\n",
       "      <th>Dynasty</th>\n",
       "      <th>Notes</th>\n",
       "    </tr>\n",
       "  </thead>\n",
       "  <tbody>\n",
       "    <tr>\n",
       "      <th>0</th>\n",
       "      <td>Augustus</td>\n",
       "      <td>62.0</td>\n",
       "      <td>14.0</td>\n",
       "      <td>Rome</td>\n",
       "      <td>Italia</td>\n",
       "      <td>Birthright</td>\n",
       "      <td>26.0</td>\n",
       "      <td>14.0</td>\n",
       "      <td>Assassination</td>\n",
       "      <td>Wife</td>\n",
       "      <td>Julio-Claudian</td>\n",
       "      <td>birth, reign.start are BCE. Assign negative fo...</td>\n",
       "    </tr>\n",
       "    <tr>\n",
       "      <th>1</th>\n",
       "      <td>Tiberius</td>\n",
       "      <td>41.0</td>\n",
       "      <td>37.0</td>\n",
       "      <td>Rome</td>\n",
       "      <td>Italia</td>\n",
       "      <td>Birthright</td>\n",
       "      <td>14.0</td>\n",
       "      <td>37.0</td>\n",
       "      <td>Assassination</td>\n",
       "      <td>Other Emperor</td>\n",
       "      <td>Julio-Claudian</td>\n",
       "      <td>birth is BCE. Assign negative for correct ISO ...</td>\n",
       "    </tr>\n",
       "    <tr>\n",
       "      <th>2</th>\n",
       "      <td>Caligula</td>\n",
       "      <td>12.0</td>\n",
       "      <td>41.0</td>\n",
       "      <td>Antitum</td>\n",
       "      <td>Italia</td>\n",
       "      <td>Birthright</td>\n",
       "      <td>37.0</td>\n",
       "      <td>41.0</td>\n",
       "      <td>Assassination</td>\n",
       "      <td>Senate</td>\n",
       "      <td>Julio-Claudian</td>\n",
       "      <td>assassination may have only involved the Praet...</td>\n",
       "    </tr>\n",
       "    <tr>\n",
       "      <th>3</th>\n",
       "      <td>Claudius</td>\n",
       "      <td>9.0</td>\n",
       "      <td>54.0</td>\n",
       "      <td>Lugdunum</td>\n",
       "      <td>Gallia Lugdunensis</td>\n",
       "      <td>Birthright</td>\n",
       "      <td>41.0</td>\n",
       "      <td>54.0</td>\n",
       "      <td>Assassination</td>\n",
       "      <td>Wife</td>\n",
       "      <td>Julio-Claudian</td>\n",
       "      <td>birth is BCE. Assign negative for correct ISO ...</td>\n",
       "    </tr>\n",
       "    <tr>\n",
       "      <th>4</th>\n",
       "      <td>Nero</td>\n",
       "      <td>37.0</td>\n",
       "      <td>68.0</td>\n",
       "      <td>Antitum</td>\n",
       "      <td>Italia</td>\n",
       "      <td>Birthright</td>\n",
       "      <td>54.0</td>\n",
       "      <td>68.0</td>\n",
       "      <td>Suicide</td>\n",
       "      <td>Senate</td>\n",
       "      <td>Julio-Claudian</td>\n",
       "      <td>NaN</td>\n",
       "    </tr>\n",
       "    <tr>\n",
       "      <th>5</th>\n",
       "      <td>Galba</td>\n",
       "      <td>2.0</td>\n",
       "      <td>69.0</td>\n",
       "      <td>Terracina</td>\n",
       "      <td>Italia</td>\n",
       "      <td>Seized Power</td>\n",
       "      <td>68.0</td>\n",
       "      <td>69.0</td>\n",
       "      <td>Assassination</td>\n",
       "      <td>Other Emperor</td>\n",
       "      <td>Flavian</td>\n",
       "      <td>birth is BCE. Assign negative for correct ISO ...</td>\n",
       "    </tr>\n",
       "    <tr>\n",
       "      <th>6</th>\n",
       "      <td>Otho</td>\n",
       "      <td>32.0</td>\n",
       "      <td>69.0</td>\n",
       "      <td>Terentinum</td>\n",
       "      <td>Italia</td>\n",
       "      <td>Appointment by Praetorian Guard</td>\n",
       "      <td>69.0</td>\n",
       "      <td>69.0</td>\n",
       "      <td>Suicide</td>\n",
       "      <td>Other Emperor</td>\n",
       "      <td>Flavian</td>\n",
       "      <td>NaN</td>\n",
       "    </tr>\n",
       "    <tr>\n",
       "      <th>7</th>\n",
       "      <td>Vitellius</td>\n",
       "      <td>15.0</td>\n",
       "      <td>69.0</td>\n",
       "      <td>Rome</td>\n",
       "      <td>Italia</td>\n",
       "      <td>Seized Power</td>\n",
       "      <td>69.0</td>\n",
       "      <td>69.0</td>\n",
       "      <td>Assassination</td>\n",
       "      <td>Other Emperor</td>\n",
       "      <td>Flavian</td>\n",
       "      <td>NaN</td>\n",
       "    </tr>\n",
       "    <tr>\n",
       "      <th>8</th>\n",
       "      <td>Vespasian</td>\n",
       "      <td>9.0</td>\n",
       "      <td>79.0</td>\n",
       "      <td>Falacrine</td>\n",
       "      <td>Italia</td>\n",
       "      <td>Seized Power</td>\n",
       "      <td>69.0</td>\n",
       "      <td>79.0</td>\n",
       "      <td>Natural Causes</td>\n",
       "      <td>Disease</td>\n",
       "      <td>Flavian</td>\n",
       "      <td>NaN</td>\n",
       "    </tr>\n",
       "    <tr>\n",
       "      <th>9</th>\n",
       "      <td>Titus</td>\n",
       "      <td>39.0</td>\n",
       "      <td>81.0</td>\n",
       "      <td>Rome</td>\n",
       "      <td>Italia</td>\n",
       "      <td>Birthright</td>\n",
       "      <td>79.0</td>\n",
       "      <td>81.0</td>\n",
       "      <td>Natural Causes</td>\n",
       "      <td>Disease</td>\n",
       "      <td>Flavian</td>\n",
       "      <td>NaN</td>\n",
       "    </tr>\n",
       "  </tbody>\n",
       "</table>\n",
       "</div>"
      ],
      "text/plain": [
       "        Name  Birth  Death  Birth City      Birth Province  \\\n",
       "0   Augustus   62.0   14.0        Rome              Italia   \n",
       "1   Tiberius   41.0   37.0        Rome              Italia   \n",
       "2   Caligula   12.0   41.0     Antitum              Italia   \n",
       "3   Claudius    9.0   54.0    Lugdunum  Gallia Lugdunensis   \n",
       "4       Nero   37.0   68.0     Antitum              Italia   \n",
       "5      Galba    2.0   69.0   Terracina              Italia   \n",
       "6       Otho   32.0   69.0  Terentinum              Italia   \n",
       "7  Vitellius   15.0   69.0        Rome              Italia   \n",
       "8  Vespasian    9.0   79.0   Falacrine              Italia   \n",
       "9      Titus   39.0   81.0        Rome              Italia   \n",
       "\n",
       "                              rise  Reign Start  Reign End           Cause  \\\n",
       "0                       Birthright         26.0       14.0   Assassination   \n",
       "1                       Birthright         14.0       37.0   Assassination   \n",
       "2                       Birthright         37.0       41.0   Assassination   \n",
       "3                       Birthright         41.0       54.0   Assassination   \n",
       "4                       Birthright         54.0       68.0         Suicide   \n",
       "5                     Seized Power         68.0       69.0   Assassination   \n",
       "6  Appointment by Praetorian Guard         69.0       69.0         Suicide   \n",
       "7                     Seized Power         69.0       69.0   Assassination   \n",
       "8                     Seized Power         69.0       79.0  Natural Causes   \n",
       "9                       Birthright         79.0       81.0  Natural Causes   \n",
       "\n",
       "          Killer         Dynasty  \\\n",
       "0           Wife  Julio-Claudian   \n",
       "1  Other Emperor  Julio-Claudian   \n",
       "2         Senate  Julio-Claudian   \n",
       "3           Wife  Julio-Claudian   \n",
       "4         Senate  Julio-Claudian   \n",
       "5  Other Emperor         Flavian   \n",
       "6  Other Emperor         Flavian   \n",
       "7  Other Emperor         Flavian   \n",
       "8        Disease         Flavian   \n",
       "9        Disease         Flavian   \n",
       "\n",
       "                                               Notes  \n",
       "0  birth, reign.start are BCE. Assign negative fo...  \n",
       "1  birth is BCE. Assign negative for correct ISO ...  \n",
       "2  assassination may have only involved the Praet...  \n",
       "3  birth is BCE. Assign negative for correct ISO ...  \n",
       "4                                                NaN  \n",
       "5  birth is BCE. Assign negative for correct ISO ...  \n",
       "6                                                NaN  \n",
       "7                                                NaN  \n",
       "8                                                NaN  \n",
       "9                                                NaN  "
      ]
     },
     "execution_count": 7,
     "metadata": {},
     "output_type": "execute_result"
    }
   ],
   "source": [
    "emp[['Birth','Death','Reign Start','Reign End']] = emp[['Birth','Death','Reign Start','Reign End']].apply(lambda x: x.str[:4]).astype(float)"
   ]
  },
  {
   "cell_type": "code",
   "execution_count": 8,
   "metadata": {},
   "outputs": [],
   "source": [
    "emp.iloc[[0,1,3,5],[1]] = (emp.iloc[[0,1,3,5],[1]].astype(float)) * -1"
   ]
  },
  {
   "cell_type": "code",
   "execution_count": 9,
   "metadata": {},
   "outputs": [],
   "source": [
    "emp.iloc[0,6] = emp.iloc[0,6] * -1"
   ]
  },
  {
   "cell_type": "code",
   "execution_count": 10,
   "metadata": {},
   "outputs": [
    {
     "name": "stdout",
     "output_type": "stream",
     "text": [
      "Los años que se multiplicaron por -1 representan fechas antes de cristo\n"
     ]
    }
   ],
   "source": [
    "print('Los años que se multiplicaron por -1 representan fechas antes de cristo')"
   ]
  },
  {
   "cell_type": "code",
   "execution_count": 11,
   "metadata": {
    "scrolled": true
   },
   "outputs": [
    {
     "data": {
      "text/html": [
       "<div>\n",
       "<style scoped>\n",
       "    .dataframe tbody tr th:only-of-type {\n",
       "        vertical-align: middle;\n",
       "    }\n",
       "\n",
       "    .dataframe tbody tr th {\n",
       "        vertical-align: top;\n",
       "    }\n",
       "\n",
       "    .dataframe thead th {\n",
       "        text-align: right;\n",
       "    }\n",
       "</style>\n",
       "<table border=\"1\" class=\"dataframe\">\n",
       "  <thead>\n",
       "    <tr style=\"text-align: right;\">\n",
       "      <th></th>\n",
       "      <th>Name</th>\n",
       "      <th>Birth</th>\n",
       "      <th>Death</th>\n",
       "      <th>Birth City</th>\n",
       "      <th>Birth Province</th>\n",
       "      <th>rise</th>\n",
       "      <th>Reign Start</th>\n",
       "      <th>Reign End</th>\n",
       "      <th>Cause</th>\n",
       "      <th>Killer</th>\n",
       "      <th>Dynasty</th>\n",
       "      <th>Notes</th>\n",
       "    </tr>\n",
       "  </thead>\n",
       "  <tbody>\n",
       "    <tr>\n",
       "      <th>0</th>\n",
       "      <td>Augustus</td>\n",
       "      <td>-62.0</td>\n",
       "      <td>14.0</td>\n",
       "      <td>Rome</td>\n",
       "      <td>Italia</td>\n",
       "      <td>Birthright</td>\n",
       "      <td>-26.0</td>\n",
       "      <td>14.0</td>\n",
       "      <td>Assassination</td>\n",
       "      <td>Wife</td>\n",
       "      <td>Julio-Claudian</td>\n",
       "      <td>birth, reign.start are BCE. Assign negative fo...</td>\n",
       "    </tr>\n",
       "    <tr>\n",
       "      <th>1</th>\n",
       "      <td>Tiberius</td>\n",
       "      <td>-41.0</td>\n",
       "      <td>37.0</td>\n",
       "      <td>Rome</td>\n",
       "      <td>Italia</td>\n",
       "      <td>Birthright</td>\n",
       "      <td>14.0</td>\n",
       "      <td>37.0</td>\n",
       "      <td>Assassination</td>\n",
       "      <td>Other Emperor</td>\n",
       "      <td>Julio-Claudian</td>\n",
       "      <td>birth is BCE. Assign negative for correct ISO ...</td>\n",
       "    </tr>\n",
       "    <tr>\n",
       "      <th>2</th>\n",
       "      <td>Caligula</td>\n",
       "      <td>12.0</td>\n",
       "      <td>41.0</td>\n",
       "      <td>Antitum</td>\n",
       "      <td>Italia</td>\n",
       "      <td>Birthright</td>\n",
       "      <td>37.0</td>\n",
       "      <td>41.0</td>\n",
       "      <td>Assassination</td>\n",
       "      <td>Senate</td>\n",
       "      <td>Julio-Claudian</td>\n",
       "      <td>assassination may have only involved the Praet...</td>\n",
       "    </tr>\n",
       "    <tr>\n",
       "      <th>3</th>\n",
       "      <td>Claudius</td>\n",
       "      <td>-9.0</td>\n",
       "      <td>54.0</td>\n",
       "      <td>Lugdunum</td>\n",
       "      <td>Gallia Lugdunensis</td>\n",
       "      <td>Birthright</td>\n",
       "      <td>41.0</td>\n",
       "      <td>54.0</td>\n",
       "      <td>Assassination</td>\n",
       "      <td>Wife</td>\n",
       "      <td>Julio-Claudian</td>\n",
       "      <td>birth is BCE. Assign negative for correct ISO ...</td>\n",
       "    </tr>\n",
       "    <tr>\n",
       "      <th>4</th>\n",
       "      <td>Nero</td>\n",
       "      <td>37.0</td>\n",
       "      <td>68.0</td>\n",
       "      <td>Antitum</td>\n",
       "      <td>Italia</td>\n",
       "      <td>Birthright</td>\n",
       "      <td>54.0</td>\n",
       "      <td>68.0</td>\n",
       "      <td>Suicide</td>\n",
       "      <td>Senate</td>\n",
       "      <td>Julio-Claudian</td>\n",
       "      <td>NaN</td>\n",
       "    </tr>\n",
       "    <tr>\n",
       "      <th>5</th>\n",
       "      <td>Galba</td>\n",
       "      <td>-2.0</td>\n",
       "      <td>69.0</td>\n",
       "      <td>Terracina</td>\n",
       "      <td>Italia</td>\n",
       "      <td>Seized Power</td>\n",
       "      <td>68.0</td>\n",
       "      <td>69.0</td>\n",
       "      <td>Assassination</td>\n",
       "      <td>Other Emperor</td>\n",
       "      <td>Flavian</td>\n",
       "      <td>birth is BCE. Assign negative for correct ISO ...</td>\n",
       "    </tr>\n",
       "    <tr>\n",
       "      <th>6</th>\n",
       "      <td>Otho</td>\n",
       "      <td>32.0</td>\n",
       "      <td>69.0</td>\n",
       "      <td>Terentinum</td>\n",
       "      <td>Italia</td>\n",
       "      <td>Appointment by Praetorian Guard</td>\n",
       "      <td>69.0</td>\n",
       "      <td>69.0</td>\n",
       "      <td>Suicide</td>\n",
       "      <td>Other Emperor</td>\n",
       "      <td>Flavian</td>\n",
       "      <td>NaN</td>\n",
       "    </tr>\n",
       "    <tr>\n",
       "      <th>7</th>\n",
       "      <td>Vitellius</td>\n",
       "      <td>15.0</td>\n",
       "      <td>69.0</td>\n",
       "      <td>Rome</td>\n",
       "      <td>Italia</td>\n",
       "      <td>Seized Power</td>\n",
       "      <td>69.0</td>\n",
       "      <td>69.0</td>\n",
       "      <td>Assassination</td>\n",
       "      <td>Other Emperor</td>\n",
       "      <td>Flavian</td>\n",
       "      <td>NaN</td>\n",
       "    </tr>\n",
       "    <tr>\n",
       "      <th>8</th>\n",
       "      <td>Vespasian</td>\n",
       "      <td>9.0</td>\n",
       "      <td>79.0</td>\n",
       "      <td>Falacrine</td>\n",
       "      <td>Italia</td>\n",
       "      <td>Seized Power</td>\n",
       "      <td>69.0</td>\n",
       "      <td>79.0</td>\n",
       "      <td>Natural Causes</td>\n",
       "      <td>Disease</td>\n",
       "      <td>Flavian</td>\n",
       "      <td>NaN</td>\n",
       "    </tr>\n",
       "    <tr>\n",
       "      <th>9</th>\n",
       "      <td>Titus</td>\n",
       "      <td>39.0</td>\n",
       "      <td>81.0</td>\n",
       "      <td>Rome</td>\n",
       "      <td>Italia</td>\n",
       "      <td>Birthright</td>\n",
       "      <td>79.0</td>\n",
       "      <td>81.0</td>\n",
       "      <td>Natural Causes</td>\n",
       "      <td>Disease</td>\n",
       "      <td>Flavian</td>\n",
       "      <td>NaN</td>\n",
       "    </tr>\n",
       "  </tbody>\n",
       "</table>\n",
       "</div>"
      ],
      "text/plain": [
       "        Name  Birth  Death  Birth City      Birth Province  \\\n",
       "0   Augustus  -62.0   14.0        Rome              Italia   \n",
       "1   Tiberius  -41.0   37.0        Rome              Italia   \n",
       "2   Caligula   12.0   41.0     Antitum              Italia   \n",
       "3   Claudius   -9.0   54.0    Lugdunum  Gallia Lugdunensis   \n",
       "4       Nero   37.0   68.0     Antitum              Italia   \n",
       "5      Galba   -2.0   69.0   Terracina              Italia   \n",
       "6       Otho   32.0   69.0  Terentinum              Italia   \n",
       "7  Vitellius   15.0   69.0        Rome              Italia   \n",
       "8  Vespasian    9.0   79.0   Falacrine              Italia   \n",
       "9      Titus   39.0   81.0        Rome              Italia   \n",
       "\n",
       "                              rise  Reign Start  Reign End           Cause  \\\n",
       "0                       Birthright        -26.0       14.0   Assassination   \n",
       "1                       Birthright         14.0       37.0   Assassination   \n",
       "2                       Birthright         37.0       41.0   Assassination   \n",
       "3                       Birthright         41.0       54.0   Assassination   \n",
       "4                       Birthright         54.0       68.0         Suicide   \n",
       "5                     Seized Power         68.0       69.0   Assassination   \n",
       "6  Appointment by Praetorian Guard         69.0       69.0         Suicide   \n",
       "7                     Seized Power         69.0       69.0   Assassination   \n",
       "8                     Seized Power         69.0       79.0  Natural Causes   \n",
       "9                       Birthright         79.0       81.0  Natural Causes   \n",
       "\n",
       "          Killer         Dynasty  \\\n",
       "0           Wife  Julio-Claudian   \n",
       "1  Other Emperor  Julio-Claudian   \n",
       "2         Senate  Julio-Claudian   \n",
       "3           Wife  Julio-Claudian   \n",
       "4         Senate  Julio-Claudian   \n",
       "5  Other Emperor         Flavian   \n",
       "6  Other Emperor         Flavian   \n",
       "7  Other Emperor         Flavian   \n",
       "8        Disease         Flavian   \n",
       "9        Disease         Flavian   \n",
       "\n",
       "                                               Notes  \n",
       "0  birth, reign.start are BCE. Assign negative fo...  \n",
       "1  birth is BCE. Assign negative for correct ISO ...  \n",
       "2  assassination may have only involved the Praet...  \n",
       "3  birth is BCE. Assign negative for correct ISO ...  \n",
       "4                                                NaN  \n",
       "5  birth is BCE. Assign negative for correct ISO ...  \n",
       "6                                                NaN  \n",
       "7                                                NaN  \n",
       "8                                                NaN  \n",
       "9                                                NaN  "
      ]
     },
     "execution_count": 11,
     "metadata": {},
     "output_type": "execute_result"
    }
   ],
   "source": [
    "emp.head(5)"
   ]
  },
  {
   "cell_type": "markdown",
   "metadata": {},
   "source": [
    "#### Agrego columnas para medir tiempos\n",
    "\n",
    "Edad muerte : Edad que tenia el emperador al fallecer\n",
    "\n",
    "Trono duracion: Cuanto tiempo duro como emperador\n",
    "\n",
    "Edad Trono: La edad que tenia al asumir como emperador"
   ]
  },
  {
   "cell_type": "code",
   "execution_count": 12,
   "metadata": {},
   "outputs": [
    {
     "data": {
      "text/html": [
       "<div>\n",
       "<style scoped>\n",
       "    .dataframe tbody tr th:only-of-type {\n",
       "        vertical-align: middle;\n",
       "    }\n",
       "\n",
       "    .dataframe tbody tr th {\n",
       "        vertical-align: top;\n",
       "    }\n",
       "\n",
       "    .dataframe thead th {\n",
       "        text-align: right;\n",
       "    }\n",
       "</style>\n",
       "<table border=\"1\" class=\"dataframe\">\n",
       "  <thead>\n",
       "    <tr style=\"text-align: right;\">\n",
       "      <th></th>\n",
       "      <th>Name</th>\n",
       "      <th>Birth</th>\n",
       "      <th>Death</th>\n",
       "      <th>Birth City</th>\n",
       "      <th>Birth Province</th>\n",
       "      <th>rise</th>\n",
       "      <th>Reign Start</th>\n",
       "      <th>Reign End</th>\n",
       "      <th>Cause</th>\n",
       "      <th>Killer</th>\n",
       "      <th>Dynasty</th>\n",
       "      <th>Notes</th>\n",
       "      <th>Edad muerte</th>\n",
       "      <th>Trono duracion</th>\n",
       "      <th>Edad Trono</th>\n",
       "    </tr>\n",
       "  </thead>\n",
       "  <tbody>\n",
       "    <tr>\n",
       "      <th>0</th>\n",
       "      <td>Augustus</td>\n",
       "      <td>-62.0</td>\n",
       "      <td>14.0</td>\n",
       "      <td>Rome</td>\n",
       "      <td>Italia</td>\n",
       "      <td>Birthright</td>\n",
       "      <td>-26.0</td>\n",
       "      <td>14.0</td>\n",
       "      <td>Assassination</td>\n",
       "      <td>Wife</td>\n",
       "      <td>Julio-Claudian</td>\n",
       "      <td>birth, reign.start are BCE. Assign negative fo...</td>\n",
       "      <td>76.0</td>\n",
       "      <td>40.0</td>\n",
       "      <td>36.0</td>\n",
       "    </tr>\n",
       "    <tr>\n",
       "      <th>1</th>\n",
       "      <td>Tiberius</td>\n",
       "      <td>-41.0</td>\n",
       "      <td>37.0</td>\n",
       "      <td>Rome</td>\n",
       "      <td>Italia</td>\n",
       "      <td>Birthright</td>\n",
       "      <td>14.0</td>\n",
       "      <td>37.0</td>\n",
       "      <td>Assassination</td>\n",
       "      <td>Other Emperor</td>\n",
       "      <td>Julio-Claudian</td>\n",
       "      <td>birth is BCE. Assign negative for correct ISO ...</td>\n",
       "      <td>78.0</td>\n",
       "      <td>23.0</td>\n",
       "      <td>55.0</td>\n",
       "    </tr>\n",
       "    <tr>\n",
       "      <th>2</th>\n",
       "      <td>Caligula</td>\n",
       "      <td>12.0</td>\n",
       "      <td>41.0</td>\n",
       "      <td>Antitum</td>\n",
       "      <td>Italia</td>\n",
       "      <td>Birthright</td>\n",
       "      <td>37.0</td>\n",
       "      <td>41.0</td>\n",
       "      <td>Assassination</td>\n",
       "      <td>Senate</td>\n",
       "      <td>Julio-Claudian</td>\n",
       "      <td>assassination may have only involved the Praet...</td>\n",
       "      <td>29.0</td>\n",
       "      <td>4.0</td>\n",
       "      <td>25.0</td>\n",
       "    </tr>\n",
       "    <tr>\n",
       "      <th>3</th>\n",
       "      <td>Claudius</td>\n",
       "      <td>-9.0</td>\n",
       "      <td>54.0</td>\n",
       "      <td>Lugdunum</td>\n",
       "      <td>Gallia Lugdunensis</td>\n",
       "      <td>Birthright</td>\n",
       "      <td>41.0</td>\n",
       "      <td>54.0</td>\n",
       "      <td>Assassination</td>\n",
       "      <td>Wife</td>\n",
       "      <td>Julio-Claudian</td>\n",
       "      <td>birth is BCE. Assign negative for correct ISO ...</td>\n",
       "      <td>63.0</td>\n",
       "      <td>13.0</td>\n",
       "      <td>50.0</td>\n",
       "    </tr>\n",
       "    <tr>\n",
       "      <th>4</th>\n",
       "      <td>Nero</td>\n",
       "      <td>37.0</td>\n",
       "      <td>68.0</td>\n",
       "      <td>Antitum</td>\n",
       "      <td>Italia</td>\n",
       "      <td>Birthright</td>\n",
       "      <td>54.0</td>\n",
       "      <td>68.0</td>\n",
       "      <td>Suicide</td>\n",
       "      <td>Senate</td>\n",
       "      <td>Julio-Claudian</td>\n",
       "      <td>NaN</td>\n",
       "      <td>31.0</td>\n",
       "      <td>14.0</td>\n",
       "      <td>17.0</td>\n",
       "    </tr>\n",
       "    <tr>\n",
       "      <th>5</th>\n",
       "      <td>Galba</td>\n",
       "      <td>-2.0</td>\n",
       "      <td>69.0</td>\n",
       "      <td>Terracina</td>\n",
       "      <td>Italia</td>\n",
       "      <td>Seized Power</td>\n",
       "      <td>68.0</td>\n",
       "      <td>69.0</td>\n",
       "      <td>Assassination</td>\n",
       "      <td>Other Emperor</td>\n",
       "      <td>Flavian</td>\n",
       "      <td>birth is BCE. Assign negative for correct ISO ...</td>\n",
       "      <td>71.0</td>\n",
       "      <td>1.0</td>\n",
       "      <td>70.0</td>\n",
       "    </tr>\n",
       "    <tr>\n",
       "      <th>6</th>\n",
       "      <td>Otho</td>\n",
       "      <td>32.0</td>\n",
       "      <td>69.0</td>\n",
       "      <td>Terentinum</td>\n",
       "      <td>Italia</td>\n",
       "      <td>Appointment by Praetorian Guard</td>\n",
       "      <td>69.0</td>\n",
       "      <td>69.0</td>\n",
       "      <td>Suicide</td>\n",
       "      <td>Other Emperor</td>\n",
       "      <td>Flavian</td>\n",
       "      <td>NaN</td>\n",
       "      <td>37.0</td>\n",
       "      <td>0.0</td>\n",
       "      <td>37.0</td>\n",
       "    </tr>\n",
       "    <tr>\n",
       "      <th>7</th>\n",
       "      <td>Vitellius</td>\n",
       "      <td>15.0</td>\n",
       "      <td>69.0</td>\n",
       "      <td>Rome</td>\n",
       "      <td>Italia</td>\n",
       "      <td>Seized Power</td>\n",
       "      <td>69.0</td>\n",
       "      <td>69.0</td>\n",
       "      <td>Assassination</td>\n",
       "      <td>Other Emperor</td>\n",
       "      <td>Flavian</td>\n",
       "      <td>NaN</td>\n",
       "      <td>54.0</td>\n",
       "      <td>0.0</td>\n",
       "      <td>54.0</td>\n",
       "    </tr>\n",
       "    <tr>\n",
       "      <th>8</th>\n",
       "      <td>Vespasian</td>\n",
       "      <td>9.0</td>\n",
       "      <td>79.0</td>\n",
       "      <td>Falacrine</td>\n",
       "      <td>Italia</td>\n",
       "      <td>Seized Power</td>\n",
       "      <td>69.0</td>\n",
       "      <td>79.0</td>\n",
       "      <td>Natural Causes</td>\n",
       "      <td>Disease</td>\n",
       "      <td>Flavian</td>\n",
       "      <td>NaN</td>\n",
       "      <td>70.0</td>\n",
       "      <td>10.0</td>\n",
       "      <td>60.0</td>\n",
       "    </tr>\n",
       "    <tr>\n",
       "      <th>9</th>\n",
       "      <td>Titus</td>\n",
       "      <td>39.0</td>\n",
       "      <td>81.0</td>\n",
       "      <td>Rome</td>\n",
       "      <td>Italia</td>\n",
       "      <td>Birthright</td>\n",
       "      <td>79.0</td>\n",
       "      <td>81.0</td>\n",
       "      <td>Natural Causes</td>\n",
       "      <td>Disease</td>\n",
       "      <td>Flavian</td>\n",
       "      <td>NaN</td>\n",
       "      <td>42.0</td>\n",
       "      <td>2.0</td>\n",
       "      <td>40.0</td>\n",
       "    </tr>\n",
       "  </tbody>\n",
       "</table>\n",
       "</div>"
      ],
      "text/plain": [
       "        Name  Birth  Death  Birth City      Birth Province  \\\n",
       "0   Augustus  -62.0   14.0        Rome              Italia   \n",
       "1   Tiberius  -41.0   37.0        Rome              Italia   \n",
       "2   Caligula   12.0   41.0     Antitum              Italia   \n",
       "3   Claudius   -9.0   54.0    Lugdunum  Gallia Lugdunensis   \n",
       "4       Nero   37.0   68.0     Antitum              Italia   \n",
       "5      Galba   -2.0   69.0   Terracina              Italia   \n",
       "6       Otho   32.0   69.0  Terentinum              Italia   \n",
       "7  Vitellius   15.0   69.0        Rome              Italia   \n",
       "8  Vespasian    9.0   79.0   Falacrine              Italia   \n",
       "9      Titus   39.0   81.0        Rome              Italia   \n",
       "\n",
       "                              rise  Reign Start  Reign End           Cause  \\\n",
       "0                       Birthright        -26.0       14.0   Assassination   \n",
       "1                       Birthright         14.0       37.0   Assassination   \n",
       "2                       Birthright         37.0       41.0   Assassination   \n",
       "3                       Birthright         41.0       54.0   Assassination   \n",
       "4                       Birthright         54.0       68.0         Suicide   \n",
       "5                     Seized Power         68.0       69.0   Assassination   \n",
       "6  Appointment by Praetorian Guard         69.0       69.0         Suicide   \n",
       "7                     Seized Power         69.0       69.0   Assassination   \n",
       "8                     Seized Power         69.0       79.0  Natural Causes   \n",
       "9                       Birthright         79.0       81.0  Natural Causes   \n",
       "\n",
       "          Killer         Dynasty  \\\n",
       "0           Wife  Julio-Claudian   \n",
       "1  Other Emperor  Julio-Claudian   \n",
       "2         Senate  Julio-Claudian   \n",
       "3           Wife  Julio-Claudian   \n",
       "4         Senate  Julio-Claudian   \n",
       "5  Other Emperor         Flavian   \n",
       "6  Other Emperor         Flavian   \n",
       "7  Other Emperor         Flavian   \n",
       "8        Disease         Flavian   \n",
       "9        Disease         Flavian   \n",
       "\n",
       "                                               Notes  Edad muerte  \\\n",
       "0  birth, reign.start are BCE. Assign negative fo...         76.0   \n",
       "1  birth is BCE. Assign negative for correct ISO ...         78.0   \n",
       "2  assassination may have only involved the Praet...         29.0   \n",
       "3  birth is BCE. Assign negative for correct ISO ...         63.0   \n",
       "4                                                NaN         31.0   \n",
       "5  birth is BCE. Assign negative for correct ISO ...         71.0   \n",
       "6                                                NaN         37.0   \n",
       "7                                                NaN         54.0   \n",
       "8                                                NaN         70.0   \n",
       "9                                                NaN         42.0   \n",
       "\n",
       "   Trono duracion  Edad Trono  \n",
       "0            40.0        36.0  \n",
       "1            23.0        55.0  \n",
       "2             4.0        25.0  \n",
       "3            13.0        50.0  \n",
       "4            14.0        17.0  \n",
       "5             1.0        70.0  \n",
       "6             0.0        37.0  \n",
       "7             0.0        54.0  \n",
       "8            10.0        60.0  \n",
       "9             2.0        40.0  "
      ]
     },
     "execution_count": 12,
     "metadata": {},
     "output_type": "execute_result"
    }
   ],
   "source": [
    "emp['Edad muerte'] = emp['Death'] - emp['Birth'] \n",
    "emp['Trono duracion'] = emp['Reign End'] - emp['Reign Start']\n",
    "emp['Edad Trono'] = emp['Reign Start'] - emp['Birth']\n",
    "emp.head(5)"
   ]
  },
  {
   "cell_type": "markdown",
   "metadata": {},
   "source": [
    "## Emperadores que gobernaron por 1 año o más "
   ]
  },
  {
   "cell_type": "code",
   "execution_count": 45,
   "metadata": {
    "scrolled": true
   },
   "outputs": [
    {
     "data": {
      "image/png": "[encoded data removed]",
      "text/plain": [
       "<Figure size 432x288 with 1 Axes>"
      ]
     },
     "metadata": {
      "needs_background": "light"
     },
     "output_type": "display_data"
    }
   ],
   "source": [
    "emp.sort_values(by = 'Trono duracion', ascending = False).head(56).plot(x = 'Name', y = 'Trono duracion', kind = 'bar')\n",
    "plt.tick_params(axis='x',width = 2, length = 1,labelsize=8)\n",
    "plt.tight_layout()\n",
    "plt.show()"
   ]
  },
  {
   "cell_type": "markdown",
   "metadata": {},
   "source": [
    "## Cuales fueron los emperadores que gobernaron por mayor tiempo?"
   ]
  },
  {
   "cell_type": "code",
   "execution_count": 14,
   "metadata": {},
   "outputs": [
    {
     "data": {
      "image/png": "[encoded data removed]",
      "text/plain": [
       "<Figure size 432x288 with 1 Axes>"
      ]
     },
     "metadata": {
      "needs_background": "light"
     },
     "output_type": "display_data"
    }
   ],
   "source": [
    "emp.sort_values(by = 'Trono duracion', ascending = False).head(10).plot(x = 'Name', y = 'Trono duracion', kind = 'bar')\n",
    "plt.tight_layout()\n",
    "plt.show()"
   ]
  },
  {
   "cell_type": "markdown",
   "metadata": {},
   "source": [
    "## Por menor tiempo?"
   ]
  },
  {
   "cell_type": "code",
   "execution_count": 15,
   "metadata": {},
   "outputs": [
    {
     "data": {
      "image/png": "[encoded data removed]",
      "text/plain": [
       "<Figure size 432x288 with 1 Axes>"
      ]
     },
     "metadata": {
      "needs_background": "light"
     },
     "output_type": "display_data"
    }
   ],
   "source": [
    "emp.sort_values(by = 'Trono duracion', ascending = False).tail(12).plot(x = 'Name', y = 'Trono duracion', kind = 'bar')\n",
    "plt.tight_layout()\n",
    "plt.show()"
   ]
  },
  {
   "cell_type": "markdown",
   "metadata": {},
   "source": [
    "#### Estos emperadores no superaron un año como emperadores."
   ]
  },
  {
   "cell_type": "markdown",
   "metadata": {},
   "source": [
    "## Cuidades de nacimiento mas frecuentes de los emperadores\n",
    "\n",
    "#### Sirmium o Sirmio fue una colonia romana durante el siglo uno, ubicado hoy en dia en Serbia. "
   ]
  },
  {
   "cell_type": "code",
   "execution_count": 16,
   "metadata": {},
   "outputs": [],
   "source": [
    "ciudades = emp.groupby('Birth City').size().sort_values(ascending = False)"
   ]
  },
  {
   "cell_type": "code",
   "execution_count": 17,
   "metadata": {},
   "outputs": [
    {
     "data": {
      "image/png": "[encoded data removed]",
      "text/plain": [
       "<Figure size 432x288 with 1 Axes>"
      ]
     },
     "metadata": {
      "needs_background": "light"
     },
     "output_type": "display_data"
    },
    {
     "name": "stdout",
     "output_type": "stream",
     "text": [
      "Birth City\n",
      "Rome                9\n",
      "Sirmium             8\n",
      "Italica             2\n",
      "Milan               2\n",
      "Antitum             2\n",
      "Lanuvium            2\n",
      "Lugdunum            2\n",
      "Cibalae             2\n",
      "Emesa               1\n",
      "Dardania            1\n",
      "Cauca               1\n",
      "Constantinople      1\n",
      "Felix Romuliana     1\n",
      "Budalia             1\n",
      "Arelate             1\n",
      "Arca Caesarea       1\n",
      "Falacrine           1\n",
      "Terracina           1\n",
      "Interamna Nahars    1\n",
      "Iol Caesarea        1\n",
      "Terentinum          1\n",
      "Leptis Magna        1\n",
      "Naissus             1\n",
      "Narbo               1\n",
      "Narni               1\n",
      "Romuliana           1\n",
      "Salona              1\n",
      "Shahba              1\n",
      "Singidunum          1\n",
      "Alba                1\n",
      "dtype: int64\n"
     ]
    }
   ],
   "source": [
    "ciudades.sort_values().plot(kind = 'barh')\n",
    "plt.tick_params(axis='y',width = 0.5, length = 2,labelsize=8)\n",
    "plt.show()\n",
    "print(ciudades)"
   ]
  },
  {
   "cell_type": "markdown",
   "metadata": {},
   "source": [
    "## Observemos los emperadores mas jovenes/viejos al momento de asumir"
   ]
  },
  {
   "cell_type": "code",
   "execution_count": 19,
   "metadata": {},
   "outputs": [],
   "source": [
    "youngest_emp = emp[['Name','Edad Trono']].set_index('Name').sort_values(by = 'Edad Trono').head(4)\n",
    "oldest_emp = emp[['Name','Edad Trono']].dropna().set_index('Name').sort_values(by = 'Edad Trono').tail(4)"
   ]
  },
  {
   "cell_type": "code",
   "execution_count": 20,
   "metadata": {
    "scrolled": false
   },
   "outputs": [
    {
     "data": {
      "image/png": "[encoded data removed]",
      "text/plain": [
       "<Figure size 432x288 with 2 Axes>"
      ]
     },
     "metadata": {
      "needs_background": "light"
     },
     "output_type": "display_data"
    }
   ],
   "source": [
    "edades_fig = plt.figure()\n",
    "joven = edades_fig.add_subplot(1,2,1)\n",
    "youngest_emp.plot(ax = joven,kind = 'bar',title = 'Emperadores más jovenes')\n",
    "\n",
    "viejos = edades_fig.add_subplot(1,2,2)\n",
    "oldest_emp.plot(ax = viejos, kind = 'bar',title = 'Emperadores más viejos', color = 'red')\n",
    "\n",
    "plt.show()"
   ]
  },
  {
   "cell_type": "markdown",
   "metadata": {},
   "source": [
    "#### Distribucion de edad al asumir el trono. El promedio fue de 41 años, aunque han asumido niños de hasta 5 años por derecho natural, o ancianos de hasta 80 años. La mediana es tambien de 41 años, y la distribucion de la edad tiene una desviacion de casi 18 años. "
   ]
  },
  {
   "cell_type": "code",
   "execution_count": 21,
   "metadata": {},
   "outputs": [
    {
     "data": {
      "image/png": "[encoded data removed]",
      "text/plain": [
       "<Figure size 432x288 with 1 Axes>"
      ]
     },
     "metadata": {
      "needs_background": "light"
     },
     "output_type": "display_data"
    },
    {
     "name": "stdout",
     "output_type": "stream",
     "text": [
      "count    63.000000\n",
      "mean     41.317460\n",
      "std      17.797087\n",
      "min       5.000000\n",
      "25%      29.500000\n",
      "50%      41.000000\n",
      "75%      55.000000\n",
      "max      80.000000\n",
      "Name: Edad Trono, dtype: float64\n"
     ]
    }
   ],
   "source": [
    "plt.boxplot(emp['Edad Trono'].dropna())\n",
    "plt.show()\n",
    "print(emp['Edad Trono'].dropna().describe())"
   ]
  },
  {
   "cell_type": "code",
   "execution_count": 23,
   "metadata": {
    "scrolled": true
   },
   "outputs": [
    {
     "data": {
      "text/plain": [
       "Birthright                         35\n",
       "Seized Power                       10\n",
       "Appointment by Army                 7\n",
       "Appointment by Senate               7\n",
       "Appointment by Emperor              4\n",
       "Appointment by Praetorian Guard     3\n",
       "Purchase                            1\n",
       "Election                            1\n",
       "Name: rise, dtype: int64"
      ]
     },
     "execution_count": 23,
     "metadata": {},
     "output_type": "execute_result"
    }
   ],
   "source": [
    "emp.rise.value_counts();"
   ]
  },
  {
   "cell_type": "markdown",
   "metadata": {},
   "source": [
    "#### Observemos la causa en la tabla y el grafico por la cual asumieron poder los emperadores:"
   ]
  },
  {
   "cell_type": "code",
   "execution_count": 24,
   "metadata": {},
   "outputs": [
    {
     "data": {
      "image/png": "[encoded data removed]",
      "text/plain": [
       "<Figure size 432x288 with 1 Axes>"
      ]
     },
     "metadata": {},
     "output_type": "display_data"
    },
    {
     "name": "stdout",
     "output_type": "stream",
     "text": [
      "Birthright                         35\n",
      "Seized Power                       10\n",
      "Appointment by Army                 7\n",
      "Appointment by Senate               7\n",
      "Appointment by Emperor              4\n",
      "Appointment by Praetorian Guard     3\n",
      "Purchase                            1\n",
      "Election                            1\n",
      "Name: rise, dtype: int64\n"
     ]
    }
   ],
   "source": [
    "rise = emp.rise.value_counts()\n",
    "labels_rise = rise.index\n",
    "explode_rise = np.repeat(0.1,8)\n",
    "fig1, ax1 = plt.subplots()\n",
    "ax1.pie(rise,\n",
    "labels=labels_rise,rotatelabels = True, autopct='%1.1f%%', startangle=90,pctdistance=0.8, explode = explode_rise)\n",
    "centre_circle = plt.Circle((0,0),0.70,fc='white')\n",
    "fig = plt.gcf()\n",
    "fig.gca().add_artist(centre_circle)\n",
    "ax1.axis('equal') \n",
    "plt.show()\n",
    "print(rise)\n"
   ]
  },
  {
   "cell_type": "markdown",
   "metadata": {},
   "source": [
    "## Cuales fueron las causas mas frecuentes que destituyeron a un emperador?"
   ]
  },
  {
   "cell_type": "code",
   "execution_count": 25,
   "metadata": {},
   "outputs": [],
   "source": [
    "causas = emp.Cause.value_counts()"
   ]
  },
  {
   "cell_type": "code",
   "execution_count": 26,
   "metadata": {},
   "outputs": [
    {
     "data": {
      "image/png": "[encoded data removed]",
      "text/plain": [
       "<Figure size 432x288 with 1 Axes>"
      ]
     },
     "metadata": {},
     "output_type": "display_data"
    },
    {
     "name": "stdout",
     "output_type": "stream",
     "text": [
      "Assassination     25\n",
      "Natural Causes    21\n",
      "Execution          8\n",
      "Suicide            5\n",
      "Died in Battle     5\n",
      "Unknown            3\n",
      "Captivity          1\n",
      "Name: Cause, dtype: int64\n"
     ]
    }
   ],
   "source": [
    "plt.pie(causas, labels = causas.index,autopct='%1.1f%%')\n",
    "plt.show()\n",
    "print(causas)"
   ]
  },
  {
   "cell_type": "markdown",
   "metadata": {},
   "source": [
    "### Definicion de dinastia: Serie de reyes o soberanos que pertenecen a la misma familia. \n",
    "\n",
    "#### Cual fue la dinastia que gobernó por mas tiempo?"
   ]
  },
  {
   "cell_type": "code",
   "execution_count": 27,
   "metadata": {},
   "outputs": [],
   "source": [
    "dinastia_duracion = emp.groupby('Dynasty')['Trono duracion'].sum().sort_values(ascending = False)"
   ]
  },
  {
   "cell_type": "code",
   "execution_count": 28,
   "metadata": {},
   "outputs": [
    {
     "data": {
      "image/png": "[encoded data removed]",
      "text/plain": [
       "<Figure size 432x288 with 1 Axes>"
      ]
     },
     "metadata": {
      "needs_background": "light"
     },
     "output_type": "display_data"
    }
   ],
   "source": [
    "dinastia_duracion.sort_values().plot(kind = 'barh')\n",
    "plt.show()"
   ]
  },
  {
   "cell_type": "markdown",
   "metadata": {},
   "source": [
    "## Cuantos emperadores por cada dinastia?"
   ]
  },
  {
   "cell_type": "code",
   "execution_count": 29,
   "metadata": {
    "scrolled": true
   },
   "outputs": [],
   "source": [
    "dyn_size = emp.groupby('Dynasty').size().sort_values(ascending = False)"
   ]
  },
  {
   "cell_type": "code",
   "execution_count": 30,
   "metadata": {
    "scrolled": true
   },
   "outputs": [
    {
     "data": {
      "image/png": "[encoded data removed]",
      "text/plain": [
       "<Figure size 432x288 with 1 Axes>"
      ]
     },
     "metadata": {
      "needs_background": "light"
     },
     "output_type": "display_data"
    }
   ],
   "source": [
    "dyn_size.plot(kind = 'bar')\n",
    "plt.show()"
   ]
  },
  {
   "cell_type": "markdown",
   "metadata": {},
   "source": [
    "## Cuanto tiempo gobernaron cada emperador por dinastia?"
   ]
  },
  {
   "cell_type": "markdown",
   "metadata": {},
   "source": [
    "##### Dinastias Valentinian, Severan, Nerva-Antonine, Julio-Claudian, Flavian"
   ]
  },
  {
   "cell_type": "code",
   "execution_count": 31,
   "metadata": {},
   "outputs": [],
   "source": [
    "emp_dyn = pd.DataFrame(emp.groupby(['Dynasty','Name'])['Trono duracion'].sum().reset_index())\n",
    "emp_dyn_sorted = emp_dyn.sort_values(by = ['Dynasty','Trono duracion'], ascending = False).set_index('Dynasty')"
   ]
  },
  {
   "cell_type": "code",
   "execution_count": 32,
   "metadata": {
    "scrolled": true
   },
   "outputs": [
    {
     "data": {
      "image/png": "[encoded data removed]",
      "text/plain": [
       "<Figure size 432x288 with 5 Axes>"
      ]
     },
     "metadata": {
      "needs_background": "light"
     },
     "output_type": "display_data"
    }
   ],
   "source": [
    "name_dyn = emp_dyn_sorted.index.unique()\n",
    "name_dyn = name_dyn.drop(['Theodosian','Gordian','Constantinian'])\n",
    "dyn_plot = plt.figure()\n",
    "\n",
    "for nombre,ind in zip(name_dyn,range(1,9)):\n",
    "    emp_dyn_filter = emp_dyn_sorted.loc[nombre,:]\n",
    "    ax = dyn_plot.add_subplot(1,5,ind)\n",
    "    emp_dyn_filter.plot(x = 'Name',title = nombre, ax = ax,legend =  False,kind = 'bar')\n",
    "    \n",
    "    \n",
    "plt.subplots_adjust(left=3, bottom=1, right=4, top=2, wspace=0.5, hspace=1)\n",
    "plt.show()"
   ]
  },
  {
   "cell_type": "markdown",
   "metadata": {},
   "source": [
    "###### Dinastia Gordian (Observemos la cantidad de emperadores que fueron destituidos en esta querida familia!)"
   ]
  },
  {
   "cell_type": "code",
   "execution_count": 33,
   "metadata": {},
   "outputs": [
    {
     "data": {
      "image/png": "[encoded data removed]",
      "text/plain": [
       "<Figure size 432x288 with 1 Axes>"
      ]
     },
     "metadata": {
      "needs_background": "light"
     },
     "output_type": "display_data"
    }
   ],
   "source": [
    "emp_dyn_sorted.loc['Gordian',:].sort_values(by = 'Trono duracion').plot(x = 'Name',kind = 'barh', color = 'red')\n",
    "plt.show()"
   ]
  },
  {
   "cell_type": "markdown",
   "metadata": {},
   "source": [
    "##### DInastia Constantinian"
   ]
  },
  {
   "cell_type": "code",
   "execution_count": 34,
   "metadata": {
    "scrolled": false
   },
   "outputs": [
    {
     "data": {
      "image/png": "[encoded data removed]",
      "text/plain": [
       "<Figure size 432x288 with 1 Axes>"
      ]
     },
     "metadata": {
      "needs_background": "light"
     },
     "output_type": "display_data"
    }
   ],
   "source": [
    "emp_dyn_sorted.loc['Constantinian',:].sort_values(by = 'Trono duracion').plot(x = 'Name',kind = 'barh', color = 'green')\n",
    "plt.show()"
   ]
  },
  {
   "cell_type": "markdown",
   "metadata": {},
   "source": [
    "## La dinastia teodisiana comienza bajo el reinato de Teodosio el Grande, que es famoso por haber tomado la decision de dividir el imperio romano en 2 partes, el occidente y el oriente ,dandole el poder a sus dos hijos Arcadio y Honorio, y de esta manera finaliza Roma como Imperio.  "
   ]
  }
 ],
 "metadata": {
  "kernelspec": {
   "display_name": "Python 3",
   "language": "python",
   "name": "python3"
  },
  "language_info": {
   "codemirror_mode": {
    "name": "ipython",
    "version": 3
   },
   "file_extension": ".py",
   "mimetype": "text/x-python",
   "name": "python",
   "nbconvert_exporter": "python",
   "pygments_lexer": "ipython3",
   "version": "3.7.1"
  }
 },
 "nbformat": 4,
 "nbformat_minor": 2
}
